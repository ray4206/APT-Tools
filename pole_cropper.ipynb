{
 "cells": [
  {
   "cell_type": "code",
   "execution_count": null,
   "id": "e0e2973c-a430-4918-b77c-442cf1ba3a92",
   "metadata": {},
   "outputs": [],
   "source": [
    "import pandas as pd\n",
    "import numpy as np\n",
    "import matplotlib"
   ]
  },
  {
   "cell_type": "code",
   "execution_count": null,
   "id": "c33001db-91ea-44f5-ad06-20e22d11d364",
   "metadata": {},
   "outputs": [],
   "source": [
    "enput = '0'\n",
    "poles = []\n",
    "\n",
    "while enput != 'q' or enput != 'Q':\n",
    "    enput = input('Input pole X, pole Y, pole diameter, if no poles to be add input \\'q\\'')\n",
    "    if enput == 'q' or enput == 'Q' : break\n",
    "    x, y, diameter = enput.split(',')\n",
    "   \n",
    "    if float(diameter) < 0:\n",
    "        raise ValueError('直徑應該是非負數.')\n",
    "    poles.append((float(x),  float(y),  float(diameter) ))"
   ]
  },
  {
   "cell_type": "code",
   "execution_count": null,
   "id": "ed5efa41-2ab0-4c02-a08c-198def1276ab",
   "metadata": {},
   "outputs": [],
   "source": [
    "number = input('Please copy the name: ')\n",
    "original = pd.read_csv(number + '.csv' )\n",
    "ongoing = original.copy()\n",
    "\n",
    "for pole in poles:\n",
    "    ongoing = ongoing[(original['Detector Coordinates_0'] - pole[0]) **2 + (original['Detector Coordinates_1'] - pole[1])**2 > (1/4 * np.pi *  pole[2]**2) ]\n",
    "    no_poles = ongoing if pole == poles[len(poles)-1] else 0"
   ]
  },
  {
   "cell_type": "code",
   "execution_count": null,
   "id": "9144659d-c489-4dfe-bcf7-5b57d60f16c0",
   "metadata": {},
   "outputs": [],
   "source": [
    "del no_poles['Detector Coordinates_0']\n",
    "del no_poles['Detector Coordinates_1']\n",
    "\n",
    "no_poles = no_poles.rename(columns={\"Position_0\": \"Xnm\"})\n",
    "no_poles = no_poles.rename(columns={\"Position_1\": \"Ynm\"})\n",
    "no_poles = no_poles.rename(columns={\"Position_2\": \"Znm\"})\n",
    "\n",
    "no_poles = no_poles[['Xnm', 'Ynm', 'Znm', 'Mass']]"
   ]
  },
  {
   "cell_type": "code",
   "execution_count": null,
   "id": "3bc0a08c-8f30-4fb2-92ac-559966208219",
   "metadata": {},
   "outputs": [],
   "source": [
    "no_poles"
   ]
  },
  {
   "cell_type": "code",
   "execution_count": null,
   "id": "9f771ab5-59ed-4086-8674-2f8339429610",
   "metadata": {},
   "outputs": [],
   "source": [
    "no_poles.to_csv('output/' + number[-5:] + '_all_nopoles.csv', index = False)"
   ]
  },
  {
   "cell_type": "code",
   "execution_count": null,
   "id": "ca02e187-1971-44e2-9cfa-6c39b1c773c8",
   "metadata": {},
   "outputs": [],
   "source": []
  }
 ],
 "metadata": {
  "kernelspec": {
   "display_name": "Python 3 (ipykernel)",
   "language": "python",
   "name": "python3"
  },
  "language_info": {
   "codemirror_mode": {
    "name": "ipython",
    "version": 3
   },
   "file_extension": ".py",
   "mimetype": "text/x-python",
   "name": "python",
   "nbconvert_exporter": "python",
   "pygments_lexer": "ipython3",
   "version": "3.11.7"
  }
 },
 "nbformat": 4,
 "nbformat_minor": 5
}
