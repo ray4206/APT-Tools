{
 "cells": [
  {
   "cell_type": "code",
   "execution_count": 2,
   "id": "95aac622-316f-43c8-8138-6ff31503950e",
   "metadata": {},
   "outputs": [],
   "source": [
    "import numpy as np\n",
    "import matplotlib.pyplot as plt\n",
    "import pandas as pd\n",
    "import matplotlib as mpl\n",
    "from matplotlib.colors import BoundaryNorm\n",
    "\n",
    "mpl.rcParams['font.family'] = 'Arial'"
   ]
  },
  {
   "cell_type": "code",
   "execution_count": 31,
   "id": "a4706fd9-21ba-4915-bef6-6116bfca9eff",
   "metadata": {},
   "outputs": [],
   "source": [
    "path = \"02288_all_nopoles - 25x25x24 - Cluster Analysis (Mg, Zn, Cu)\"\n",
    "path = path + '.csv'\n",
    "name = path[:5]"
   ]
  },
  {
   "cell_type": "code",
   "execution_count": 33,
   "id": "fbb9a55b-901e-49ab-aeae-4475f4a7b999",
   "metadata": {},
   "outputs": [],
   "source": [
    "df = pd.read_csv(path, skiprows = 10) #跳過前十行的參數部分\n",
    "col = ['Ranged Ions' , 'Al % Ranged', 'Mg % Ranged', 'Zn % Ranged', 'Cu % Ranged']\n",
    "\n",
    "#分離cluster與 matrix\n",
    "matrix = df[:1]\n",
    "clusters = df[1:]\n",
    "\n",
    "x = clusters[col].values.transpose()\n",
    "Atoms = clusters['Ranged Ions']  #各cluster的atom數\n",
    "\n",
    "#將所有cluster依照cluster atom數量由小到大排列\n",
    "sorted_indexes = np.argsort(x[0])\n",
    "sorted_x = x[:, sorted_indexes]\n",
    "\n",
    "max_digit = int(np.log10(sorted_x[0][len(sorted_x[0])-1]))\n",
    "binned_x = []\n",
    "for i in range(max_digit):\n",
    "    j = i + 1\n",
    "    maski = (sorted_x[0] > 10**j) & (sorted_x[0] <= 10**(j+1))\n",
    "    binned_x.append(sorted_x[:, maski])"
   ]
  },
  {
   "cell_type": "code",
   "execution_count": 35,
   "id": "86a6619e-f9d4-4aaf-9996-565686af3c5b",
   "metadata": {},
   "outputs": [],
   "source": [
    "#不要10000+的類別\n",
    "if max_digit == 4:\n",
    "    binned_x[2] = np.append(binned_x[2], binned_x[3],axis = 1)\n",
    "    max_digit = 3"
   ]
  },
  {
   "cell_type": "code",
   "execution_count": 37,
   "id": "043bbd72-59be-45ef-beef-25a8772e39a9",
   "metadata": {},
   "outputs": [],
   "source": [
    "if max_digit <= 3: \n",
    "    plotx = ['10-100', '101-1000', '>1000']\n",
    "elif max_digit > 3: \n",
    "    plotx = ['10-100', '101-1000', '1001-10000','>10000']\n",
    "    binned_x[3] = np.append(binned_x[3], binned_x[4],axis = 1)\n",
    "    max_digit = 4\n",
    "else: plotx = [0]"
   ]
  },
  {
   "cell_type": "code",
   "execution_count": 39,
   "id": "a3c8fa33-39f1-484d-a3ca-43af0192a1e4",
   "metadata": {},
   "outputs": [
    {
     "name": "stdout",
     "output_type": "stream",
     "text": [
      "Category 10-100 has 15 clusters and 356 atoms in total\n",
      "Category 101-1000 has 1 clusters and 861 atoms in total\n",
      "Category >1000 has 6 clusters and 28357 atoms in total\n"
     ]
    }
   ],
   "source": [
    "for i in range(max_digit):\n",
    "    print(f\"Category {plotx[i]} has {len(binned_x[i][0])} clusters and {np.sum(binned_x[i][0]):.0f} atoms in total\")"
   ]
  },
  {
   "cell_type": "code",
   "execution_count": null,
   "id": "77dc42a5-9a79-405a-80e7-b2100cb99399",
   "metadata": {},
   "outputs": [],
   "source": []
  },
  {
   "cell_type": "code",
   "execution_count": null,
   "id": "af09ae3d-38bb-46ef-a773-88861ae6f8e9",
   "metadata": {},
   "outputs": [],
   "source": []
  },
  {
   "cell_type": "code",
   "execution_count": null,
   "id": "a0a6d8c1-40be-4c13-8ed8-1f47af816e75",
   "metadata": {},
   "outputs": [],
   "source": []
  },
  {
   "cell_type": "code",
   "execution_count": null,
   "id": "f422ada5-8dc9-40e2-8357-da09e6692f48",
   "metadata": {},
   "outputs": [],
   "source": []
  }
 ],
 "metadata": {
  "kernelspec": {
   "display_name": "Python 3 (ipykernel)",
   "language": "python",
   "name": "python3"
  },
  "language_info": {
   "codemirror_mode": {
    "name": "ipython",
    "version": 3
   },
   "file_extension": ".py",
   "mimetype": "text/x-python",
   "name": "python",
   "nbconvert_exporter": "python",
   "pygments_lexer": "ipython3",
   "version": "3.11.7"
  }
 },
 "nbformat": 4,
 "nbformat_minor": 5
}
